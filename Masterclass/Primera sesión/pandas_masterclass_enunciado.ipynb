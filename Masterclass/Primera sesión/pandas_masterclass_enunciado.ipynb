{
  "cells": [
    {
      "cell_type": "markdown",
      "id": "4960db6e-596d-43ea-a3de-65439a682db3",
      "metadata": {
        "id": "4960db6e-596d-43ea-a3de-65439a682db3"
      },
      "source": [
        "# Sesión 1 Masterclass"
      ]
    },
    {
      "cell_type": "markdown",
      "id": "da5fb1ae-b383-4d03-997e-2a08cc673a38",
      "metadata": {
        "id": "da5fb1ae-b383-4d03-997e-2a08cc673a38"
      },
      "source": [
        "Disponemos de varios datasets con información de admisiones a hospitales de enfermos de diabetes. El objetivo es, estudiando el historial clínico, saber cuales de ellos volverán a ser readmitidos al hospital por problemas con la diabetes.\n",
        "\n",
        "En el siguiente enlace puedes encontrar una descripción de las variables:\n",
        "https://fairlearn.org/main/user_guide/datasets/diabetes_hospital_data.html"
      ]
    },
    {
      "cell_type": "markdown",
      "id": "70016de4-a389-47c8-a9ef-2df83627a042",
      "metadata": {
        "id": "70016de4-a389-47c8-a9ef-2df83627a042"
      },
      "source": [
        "## Cargar librerías\n",
        "\n",
        "Carga las librerías que consideres necesarias para resolver este caso práctico."
      ]
    },
    {
      "cell_type": "code",
      "execution_count": null,
      "id": "3a23b392-d3f1-4ed8-b8e5-628f34ce521a",
      "metadata": {
        "id": "3a23b392-d3f1-4ed8-b8e5-628f34ce521a"
      },
      "outputs": [],
      "source": [
        "import pandas as pd\n",
        "pd.set_option('display.max_columns', 100) #Modificamos los settings por defecto para mostrar todas las columnas\n",
        "\n",
        "#Estas líneas eliminan los mensajes de warning en nuestro código\n",
        "import warnings\n",
        "warnings.filterwarnings(\"ignore\")"
      ]
    },
    {
      "cell_type": "markdown",
      "id": "8f48760c-5bdb-4d3b-b707-a82d6dfd93e2",
      "metadata": {
        "tags": [],
        "id": "8f48760c-5bdb-4d3b-b707-a82d6dfd93e2"
      },
      "source": [
        "## Lectura de datos\n",
        "\n",
        "Lee todos los archivos que hay en la carpeta data."
      ]
    },
    {
      "cell_type": "markdown",
      "id": "1f8f7df5-f17c-48be-837b-76e87eeb2575",
      "metadata": {
        "id": "1f8f7df5-f17c-48be-837b-76e87eeb2575"
      },
      "source": [
        "#### Estudio de los datasets: comprobar su correcta lectura\n",
        "\n",
        "Analiza que todos los dataset se han leído correctamente"
      ]
    },
    {
      "cell_type": "markdown",
      "id": "a0ddd27b-0f57-4a01-89f5-e4b01447f6eb",
      "metadata": {
        "id": "a0ddd27b-0f57-4a01-89f5-e4b01447f6eb"
      },
      "source": [
        "Como hay 4 conjuntos de datos hay que echarles un vistazo, decidir cual es el principal y ver cómo juntarlos todos"
      ]
    },
    {
      "cell_type": "markdown",
      "id": "1138b6b6-301f-4a2b-9165-350773212266",
      "metadata": {
        "tags": [],
        "id": "1138b6b6-301f-4a2b-9165-350773212266"
      },
      "source": [
        "## Cruce de tablas\n",
        "\n",
        "Dado que tenemos 4 conjuntos de datos, debemos estudiar si es posible unirlos. En el caso de que consideres unirlos, deberás analizar que tipo de join es el más correcto, y quién es el dataset principal."
      ]
    },
    {
      "cell_type": "markdown",
      "id": "0ec6a4ed-02b8-4914-a0c4-c023db7a163f",
      "metadata": {
        "id": "0ec6a4ed-02b8-4914-a0c4-c023db7a163f"
      },
      "source": [
        "Una vez que tengas una única tabla borra los dataframes que ya no vas a usar para optimizar el uso de los recursos de computación."
      ]
    },
    {
      "cell_type": "markdown",
      "id": "4d35b52a-c384-4fdf-8e71-48badb22c057",
      "metadata": {
        "tags": [],
        "id": "4d35b52a-c384-4fdf-8e71-48badb22c057"
      },
      "source": [
        "## Análisis de duplicados\n",
        "\n",
        "Analiza los duplicados del dataset y procesalos como creas conveniente"
      ]
    },
    {
      "cell_type": "markdown",
      "id": "1d577ec4-f1ea-41dd-b93f-4feba72882fb",
      "metadata": {
        "id": "1d577ec4-f1ea-41dd-b93f-4feba72882fb"
      },
      "source": [
        "Además de analizar si hay registros repetidos también se puede analizar si hay variables que tengan valores repetidos. Por ejemplo, las variables relativas a un id, como`encounter_id` y `patient_nbr` deberían ser únicas. De no ser así estudia como puedes trabajar con ellas.\n",
        "\n",
        "* `encounter_id`: es el id del ingreso\n",
        "* `patient_nbr`: es el id del paciente"
      ]
    },
    {
      "cell_type": "markdown",
      "id": "d7b0dbd5-6c85-418b-8a0e-725763277e18",
      "metadata": {
        "tags": [],
        "id": "d7b0dbd5-6c85-418b-8a0e-725763277e18"
      },
      "source": [
        "## Análisis de nulos\n",
        "\n",
        "Analiza los nulos del dataset y procesalos como creas conveniente"
      ]
    },
    {
      "cell_type": "markdown",
      "id": "f497187e-a4e4-440c-bfba-cf486e8270c9",
      "metadata": {
        "id": "f497187e-a4e4-440c-bfba-cf486e8270c9"
      },
      "source": [
        "Puede ser que los valores nulos ya hayan sido imputados previamente, por ejemplo, al caracter `?` o al string `None`. Estudia estos valores y otros posibles nulos en cada variable. (Entraremos en más detalle en el apartado Análisis del caracter `?` o `None` como nulo.)"
      ]
    },
    {
      "cell_type": "markdown",
      "id": "9beb05f0-5eb6-4d60-bba3-4c347941b34c",
      "metadata": {
        "tags": [],
        "id": "9beb05f0-5eb6-4d60-bba3-4c347941b34c"
      },
      "source": [
        "## Análisis univariante de las variables\n",
        "\n",
        "A continuación estudia cada variable del dataset por separado. Recuerda que las variables pueden ser de dos tipos, numéricas continuas o categóricas (es decir, de tipo string que representan una clase).\n",
        "\n",
        "\n",
        "Aquí tienes algunas ideas del tipo de análisis que debes hacer:\n",
        "\n",
        "* Estudia el tipo de dato de cada variable y comprueba que el tipo de dato es el correcto. Sino, cámbialo al más adecuado.\n",
        "    * Estudia si hay variables categóricas que podamos transformar a numéricas, o viceversa.\n",
        "* Obten un análisis estadístico y descriptivo de cada variable.\n",
        "* Estudia los diferentes tipos de valores que tiene cada variable, por ejemplo puedes analizar lo siguiente:\n",
        "    * Si la columna tiene un valor constante no aporta información y podemos eliminarla\n",
        "    * Si contiene un valor que no se corresponde con la información que debería aportar la columna, por ejemplo, un símbolo, puede ser que sea un nulo imputado. Debes analizar como tratar estos casos.\n",
        "    * Estudia si las variables categóricas contienen espacios antes y después del valor de la celda, esto puede dar lugar a futuros errores.\n",
        "    * Estudia si hay variables de intervalos que pudiésemos convertir a valores más intuitivos, o que contienen varias categorías pero que podemos agrupar en una menor cantidad, por ejemplo, transformarlo a variables binaria que valga 0 o 1."
      ]
    },
    {
      "cell_type": "markdown",
      "id": "cb1d7cf1-8e47-4da6-9ea2-2c898dfee453",
      "metadata": {
        "id": "cb1d7cf1-8e47-4da6-9ea2-2c898dfee453"
      },
      "source": [
        "### Variables numéricas\n",
        "\n",
        "Analiza las variables de tipo numérico. Si crees que alguna no debería ser considerada numérica continua, cambia su tipo de dato (por ejemplo, las variables que representan un ID, aunque contienen números, no deberían tratarse como numéricas sino como categóricas."
      ]
    },
    {
      "cell_type": "markdown",
      "id": "3926c868-e000-49e7-a7f2-17b73d747a25",
      "metadata": {
        "id": "3926c868-e000-49e7-a7f2-17b73d747a25"
      },
      "source": [
        "### Valores constantes\n",
        "\n",
        "Analicemos la cantidad de valores diferentes que toman las variables.\n",
        "\n",
        "Si una variable toma siempre el mismo valor, no aporta información y debemos eliminarla. Por otro lado, aunque tome diferentes valores, puede ser que la mayoría estén concentrados siempre en el mismo valor. Deberemos estudiar como se relacionan estos valores con la variable objetivo, para analizar si aporta información o no."
      ]
    },
    {
      "cell_type": "markdown",
      "id": "7ef10237-74b6-46d9-89ba-834dde67e1cf",
      "metadata": {
        "id": "7ef10237-74b6-46d9-89ba-834dde67e1cf"
      },
      "source": [
        "#### Análisis del caracter `?` o `None` como nulo.\n",
        "\n",
        "1.   List item\n",
        "2.   List item\n",
        "\n"
      ]
    },
    {
      "cell_type": "markdown",
      "id": "1faa6b75-defe-466c-a90b-698afd519c32",
      "metadata": {
        "id": "1faa6b75-defe-466c-a90b-698afd519c32"
      },
      "source": [
        "Analizamos las variables que contengan esos caracteres como nulos y estudiamos qué hacer con ellas."
      ]
    },
    {
      "cell_type": "markdown",
      "id": "14b5838d-f494-48a1-a5df-dd2655eb43e8",
      "metadata": {
        "id": "14b5838d-f494-48a1-a5df-dd2655eb43e8"
      },
      "source": [
        "### Estudio de las  variables diagnóstico"
      ]
    },
    {
      "cell_type": "markdown",
      "id": "ac910306-c1de-4d0e-ba43-15f71e26b626",
      "metadata": {
        "tags": [],
        "id": "ac910306-c1de-4d0e-ba43-15f71e26b626"
      },
      "source": [
        "Los valores de  variables de diagnóstico  corresponden a códigos ICD-9 que se agrupan en 18 categorías principales.\n",
        "Con el objetivo de reducir las variables derivadas de estas 3 columnas, diag_1, diag_2 y diag_3, se reemplazará cada código por su categoría correspondiente.\n",
        "\n",
        "Puede encontrar la información de estos códigos en el siguiente enlace:\n",
        "https://en.wikipedia.org/wiki/List_of_ICD-9_codes\n",
        "\n",
        "*Pista*: Puedes crear una función con bucles condicionales según el valor del diagnóstico lo cambie a una de las clasificaciones que existen. Como algunos códigos contienen letras, transforma los códigos con letras a valores muy altos, para poder cambiar toda la columna a tipo numéricos y poder hacer rangos numériucos en la función."
      ]
    },
    {
      "cell_type": "markdown",
      "id": "e1233278-b9f8-4b9d-8d67-da9f6255c9c5",
      "metadata": {
        "tags": [],
        "id": "e1233278-b9f8-4b9d-8d67-da9f6255c9c5"
      },
      "source": [
        "### Variable objetivo\n",
        "\n",
        "Analicemos la variable objetivo del conjunto de datasets, `readmitted` que nos indice si un paciente será reingresado en el hospital por diabetes o no."
      ]
    },
    {
      "cell_type": "code",
      "execution_count": null,
      "id": "c90f9634-fcc9-4bcc-b7fb-6942a6c17ab3",
      "metadata": {
        "id": "c90f9634-fcc9-4bcc-b7fb-6942a6c17ab3"
      },
      "outputs": [],
      "source": [
        "for index, element in enumerate(var_numericas):\n",
        "    plt.figure(index)\n",
        "    plt.hist(diabetes[element], bins=50, color='skyblue', edgecolor='black')\n",
        "    plt.title(element)"
      ]
    },
    {
      "cell_type": "markdown",
      "id": "a07c5a4d-9a76-41f4-a5ec-3824e5436d59",
      "metadata": {
        "tags": [],
        "id": "a07c5a4d-9a76-41f4-a5ec-3824e5436d59"
      },
      "source": [
        "### Análisis gráfico univariante\n",
        "\n",
        "A continuación vamos a hacer un análisis gráfico de las variables numéricas. A esta representación de los datos se denomina histograma.\n",
        "Representa aquellas variables numéricas que sean continuas y no representen ids o similar. Tampoco tendremos en cuenta las variables binarias, ya que no son numéricas continuas.\n",
        "\n",
        "A continuación tienes un fragmento de código para poder dibujar histogramas para cada variable. Analiza si hay valores extremos (que no estén en el grosso del histograma) y si hay variables que no deberían ser numéricas ya que toman valores discretos."
      ]
    },
    {
      "cell_type": "markdown",
      "id": "7052c411-faeb-468c-bbec-1f1298c00667",
      "metadata": {
        "tags": [],
        "id": "7052c411-faeb-468c-bbec-1f1298c00667"
      },
      "source": [
        "## Análisis multivariante de las variables\n",
        "\n",
        "A continuación estudia las variables en conjunto para ver como se comportan entre ellas. Algunas ideas del análisis que puedes realizar:\n",
        "\n",
        "* Estudia la relación de las variables que quedaron en duda en los apartados anteriores, respecto a la variable objetivo, para analizar si aportan información o no. Puedes agruparlas dos a dos, por ejemplo `readmitted` y `miglitol`, utilizando el método `groupby`. También se pueden utilizar gráficos. Se da una celda de código que permite graficar diagramas de barras de dos variables categóricas.\n",
        "* Analiza variables que crean que pueden aportar la misma información, dado que en el caso de que aportasen la misma, podríamos eliminar una de ellas."
      ]
    },
    {
      "cell_type": "markdown",
      "id": "d91c35a7-253b-446f-8489-63919366fe2a",
      "metadata": {
        "id": "d91c35a7-253b-446f-8489-63919366fe2a"
      },
      "source": [
        "Para que el análisis sea más sencillo podemos pasar las variables a binaria, donde valdrá 0 si el valor es No o None y 1 en el resto de casos. Para ello puedes definir una función que haga esta modificación, y que luego lo apliques con los métodos `apply`, `applymap`o `map`."
      ]
    },
    {
      "cell_type": "markdown",
      "id": "c28bf5c9-595e-4fbb-b132-9bc3a89099bb",
      "metadata": {
        "id": "c28bf5c9-595e-4fbb-b132-9bc3a89099bb"
      },
      "source": [
        "Puedes realizar `groupby`para agrupar variables junto con la variable objetivo y analizar las salidas."
      ]
    },
    {
      "cell_type": "code",
      "execution_count": null,
      "id": "c164bfc9-7716-46f4-b0c9-796372283dd6",
      "metadata": {
        "tags": [],
        "id": "c164bfc9-7716-46f4-b0c9-796372283dd6"
      },
      "outputs": [],
      "source": [
        "#Código para realizar graficos de barras de la variable readmitted frente a otras categóricas.\n",
        "for col in variables_a_graficar:\n",
        "    my_table2 = pd.crosstab(index=diabetes[\"readmitted\"], columns=diabetes[col])\n",
        "    my_table2.plot(kind=\"bar\", figsize=(7,3),stacked=False)\n",
        "    plt.show()"
      ]
    },
    {
      "cell_type": "markdown",
      "id": "b163001f-c42f-4dbe-aa5c-f225ccb89e41",
      "metadata": {
        "id": "b163001f-c42f-4dbe-aa5c-f225ccb89e41"
      },
      "source": [
        "*Extra*: Aunque no es objetivo de este curso, en el análisis multivariante deberían usarse técnicas de estudio de correlación entre variables."
      ]
    },
    {
      "cell_type": "markdown",
      "id": "3f386786-bb8b-4ca8-98e7-215603128732",
      "metadata": {
        "id": "3f386786-bb8b-4ca8-98e7-215603128732"
      },
      "source": [
        "## Variables derivadas"
      ]
    },
    {
      "cell_type": "markdown",
      "id": "2e6d8dc2-2fc1-4899-bb68-21e0507ba5c0",
      "metadata": {
        "id": "2e6d8dc2-2fc1-4899-bb68-21e0507ba5c0"
      },
      "source": [
        "Puedes crear variables nuevas a raíz de las que ya existen que aporten información. Por ejemplo, con las variables `patient_nbr` y `encounter_id` podemos calcular el número de reingresos de cada paciente. Para ello utiliza un `groupby`."
      ]
    },
    {
      "cell_type": "markdown",
      "id": "c02af3c4-6140-4724-b8c4-47d5e997aeb2",
      "metadata": {
        "id": "c02af3c4-6140-4724-b8c4-47d5e997aeb2"
      },
      "source": [
        "## Analisis final\n",
        "\n",
        "Una vez procesado el dataset, analizaremos las variables para obtener información que nos indique que condiciona que un paciente sea readmitido.\n",
        "Algunas ideas:\n",
        "\n",
        "* Qué variables son más relevantes cuando un paciente es readmitido. ¿Hay alguna variable que no sea nula siempre que el paciente es readmitido?\n",
        "* En las variables numéricas, si analizas sus estadísticas, ¿estas cambian en función de si filtramos el dataset para readmitido y no readmitido?"
      ]
    },
    {
      "cell_type": "code",
      "execution_count": null,
      "id": "0c362344-478f-4634-bf34-ba047b33a3d3",
      "metadata": {
        "id": "0c362344-478f-4634-bf34-ba047b33a3d3"
      },
      "outputs": [],
      "source": []
    }
  ],
  "metadata": {
    "kernelspec": {
      "display_name": "Python 3 (ipykernel)",
      "language": "python",
      "name": "python3"
    },
    "language_info": {
      "codemirror_mode": {
        "name": "ipython",
        "version": 3
      },
      "file_extension": ".py",
      "mimetype": "text/x-python",
      "name": "python",
      "nbconvert_exporter": "python",
      "pygments_lexer": "ipython3",
      "version": "3.11.4"
    },
    "colab": {
      "provenance": []
    }
  },
  "nbformat": 4,
  "nbformat_minor": 5
}